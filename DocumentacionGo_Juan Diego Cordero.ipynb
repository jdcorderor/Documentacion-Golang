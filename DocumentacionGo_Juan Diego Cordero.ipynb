{
 "cells": [
  {
   "cell_type": "markdown",
   "id": "353180f7-1988-4a7f-9cf8-1072e95b2a79",
   "metadata": {},
   "source": [
    "# Documentación de Golang (Go)\n",
    "### Golang, conocido como Go, es un lenguaje de programación de código abierto creado en 2007 por los programadores de Google: Ken Thompson y Rob Pike. Es un lenguaje diseñado para aprovechar múltiples núcleos de hardware de forma escalable. Además, es un lenguaje multiparadigma, de sintaxis secilla, que soporta programación estructurada, funcional y orientada a objetos."
   ]
  },
  {
   "cell_type": "markdown",
   "id": "dd45bef7-262d-4812-976b-6950005469b2",
   "metadata": {},
   "source": [
    "#### Al crear un archivo '.go', debe definirse un paquete en la primera línea de código utilizando la siguiente sintaxis:"
   ]
  },
  {
   "cell_type": "code",
   "execution_count": null,
   "id": "84fd57fc-4f63-4d9d-8ae2-dd6536a19c34",
   "metadata": {},
   "outputs": [],
   "source": [
    "package main"
   ]
  },
  {
   "cell_type": "markdown",
   "id": "da71444f-47c2-4c52-bf9c-ebbcbc8b89b2",
   "metadata": {},
   "source": [
    "#### Luego, debe definirse una función, ya que en Go no se permite la ejecución de código directamente en el nivel de paquete. Las funciones se definen de la siguiente manera:"
   ]
  },
  {
   "cell_type": "code",
   "execution_count": 87,
   "id": "2ed8b988-2302-4c3b-b702-44a0402e768f",
   "metadata": {},
   "outputs": [
    {
     "name": "stdout",
     "output_type": "stream",
     "text": [
      "Esta es la función init.\n"
     ]
    }
   ],
   "source": [
    "import \"fmt\"\n",
    "\n",
    "// Se define la función 'init'.\n",
    "func init() {\n",
    "    fmt.Println(\"Esta es la función init.\")\n",
    "    }\n",
    "\n",
    "init() // Se invoca a la función."
   ]
  },
  {
   "cell_type": "markdown",
   "id": "2e3f62c5-5aa5-4c20-a471-91245afb6e3a",
   "metadata": {},
   "source": [
    "##### Es importante destacar que el cuerpo de las funciones se escribe entre llaves {}."
   ]
  },
  {
   "cell_type": "markdown",
   "id": "1ac074bf-79a7-4f5a-878b-785c52dc2118",
   "metadata": {},
   "source": [
    "## Comentarios\n",
    "#### Los comentarios en Go se presentan de la siguiente manera:"
   ]
  },
  {
   "cell_type": "code",
   "execution_count": null,
   "id": "b7c0d0e1-bcb1-406a-b261-9cd2b37c1964",
   "metadata": {},
   "outputs": [],
   "source": [
    "// Comentario de una línea.\n",
    "\n",
    "/* \n",
    "Comentario\n",
    "de\n",
    "múltiples\n",
    "líneas\n",
    "*/"
   ]
  },
  {
   "cell_type": "markdown",
   "id": "7b901909-784b-4102-8a92-dfce610f67fb",
   "metadata": {},
   "source": [
    "## Variables, tipos de datos y constantes"
   ]
  },
  {
   "cell_type": "markdown",
   "id": "231580b5-9179-45a0-b7d7-73cd7a5e1ae6",
   "metadata": {},
   "source": [
    "#### En el lenguaje de programación Go, las variables se declaran a través de la palabra reservada 'var', seguida del identificador de la variable y el tipo de dato que almacenará."
   ]
  },
  {
   "cell_type": "code",
   "execution_count": 6,
   "id": "e6ea30eb-b194-4b6d-904f-4f142f04439d",
   "metadata": {},
   "outputs": [],
   "source": [
    "var numero int"
   ]
  },
  {
   "cell_type": "markdown",
   "id": "ce027412-9ee4-4444-86ad-56316a78afd3",
   "metadata": {},
   "source": [
    "##### En el ejemplo, se declara una variable 'numero' que almacena un tipo de dato entero."
   ]
  },
  {
   "cell_type": "markdown",
   "id": "b32cedb2-a67e-4ae8-880b-7b8e039e2ccd",
   "metadata": {},
   "source": [
    "#### Una vez declarada la variable, se puede inicializar mediante el operador '=', asignándole un valor."
   ]
  },
  {
   "cell_type": "code",
   "execution_count": 7,
   "id": "d78b0040-266d-4c03-b28c-8ae5c59213ec",
   "metadata": {},
   "outputs": [],
   "source": [
    "numero = 6"
   ]
  },
  {
   "cell_type": "markdown",
   "id": "830776f7-6b35-4405-88da-ecded8786c8f",
   "metadata": {},
   "source": [
    "##### De esta forma, se le asigna a la variable 'numero' el valor entero 6."
   ]
  },
  {
   "cell_type": "markdown",
   "id": "ba6bd12d-1edf-4a8e-b48d-0e1ad843481a",
   "metadata": {},
   "source": [
    "#### Veamos un ejemplo:"
   ]
  },
  {
   "cell_type": "code",
   "execution_count": 16,
   "id": "c6a0f237-b3de-417c-ab00-252dd61ae17f",
   "metadata": {},
   "outputs": [
    {
     "name": "stdout",
     "output_type": "stream",
     "text": [
      "Juan"
     ]
    },
    {
     "data": {
      "text/plain": [
       "4 <nil>"
      ]
     },
     "execution_count": 16,
     "metadata": {},
     "output_type": "execute_result"
    }
   ],
   "source": [
    "import \"fmt\" // El paquete 'fmt' permite imprimir por consola.\n",
    "\n",
    "var nombre string = \"Juan\" // Se declara e inicializa la variable 'nombre'.\n",
    "fmt.Print(nombre)"
   ]
  },
  {
   "cell_type": "markdown",
   "id": "5f7be342-d7ee-4a54-83a1-7d6ac8ba0420",
   "metadata": {},
   "source": [
    "### Tipos de Datos\n",
    "#### En Go existen múltiples tipos de datos, entre ellos:\n",
    "##### int - Números Enteros"
   ]
  },
  {
   "cell_type": "code",
   "execution_count": 32,
   "id": "727822d7-c01b-4633-b0f8-e1cadcfff985",
   "metadata": {},
   "outputs": [],
   "source": [
    "var numeroentero int = 6 // Almacena 32 o 64 bits."
   ]
  },
  {
   "cell_type": "markdown",
   "id": "69955585-9183-4eb0-bcf3-f2cccfcbdd96",
   "metadata": {},
   "source": [
    "Los enteros tienen diferentes variaciones en Go (según el número de bits que son capaces de almacenar), por ejemplo:"
   ]
  },
  {
   "cell_type": "code",
   "execution_count": 33,
   "id": "1349b30e-fd21-43c1-a789-16fb46b56fd8",
   "metadata": {},
   "outputs": [],
   "source": [
    "var num1 uint = 4 // Almacena 32 o 64 bits."
   ]
  },
  {
   "cell_type": "markdown",
   "id": "5e8a5fbf-2207-4d39-bcc0-ad6b9d0395a3",
   "metadata": {},
   "source": [
    "En este caso, 'uint' representa un tipo de dato entero sin signo."
   ]
  },
  {
   "cell_type": "code",
   "execution_count": 34,
   "id": "80da44ba-bc42-4ce9-a5ce-1baf126e8ec2",
   "metadata": {},
   "outputs": [],
   "source": [
    "var num2 int8 = 89 // Almacena hasta 8 bits."
   ]
  },
  {
   "cell_type": "code",
   "execution_count": 35,
   "id": "e3e35627-035a-4c67-b121-b0e1e8053340",
   "metadata": {},
   "outputs": [],
   "source": [
    "var num3 int16 = 5743 // Almacena hasta 16 bits."
   ]
  },
  {
   "cell_type": "code",
   "execution_count": 36,
   "id": "0a973ccc-05b3-4128-9d31-b3808f1f5966",
   "metadata": {},
   "outputs": [],
   "source": [
    "var num4 int32 = 74854 // Almacena hasta 32 bits."
   ]
  },
  {
   "cell_type": "code",
   "execution_count": 37,
   "id": "d47d9282-755c-4e9c-a7c2-dd18f2cab5eb",
   "metadata": {},
   "outputs": [],
   "source": [
    "var num5 int64 = 356329 // Almacena hasta 64 bits."
   ]
  },
  {
   "cell_type": "markdown",
   "id": "641d87fe-06fc-4672-8605-7b4effac1e86",
   "metadata": {},
   "source": [
    "##### float - Números con decimales "
   ]
  },
  {
   "cell_type": "markdown",
   "id": "8cbfa3b5-ae46-4bfb-be93-6d6fe0cbcca9",
   "metadata": {},
   "source": [
    "Los números con punto flotante (con decimales) tienen dos variaciones en Go (según el número de bits que son capaces de almacenar), por ejemplo:"
   ]
  },
  {
   "cell_type": "code",
   "execution_count": 63,
   "id": "f4b193c6-76f3-4295-a48f-42b703447f97",
   "metadata": {},
   "outputs": [],
   "source": [
    "var numerodecimal1 float32 = 3.245 // Almacena hasta 32 bits."
   ]
  },
  {
   "cell_type": "code",
   "execution_count": 64,
   "id": "a75d7e9e-794c-4557-8bf4-43256628f4d2",
   "metadata": {},
   "outputs": [],
   "source": [
    "var numerodecimal2 float64 = 5.47384 // Almacena hasta 64 bits."
   ]
  },
  {
   "cell_type": "markdown",
   "id": "c38ca9be-13bd-41e8-8bbc-cb153341ee62",
   "metadata": {},
   "source": [
    "##### string - Cadenas de texto"
   ]
  },
  {
   "cell_type": "code",
   "execution_count": 40,
   "id": "40e77c58-63fd-446d-b5bc-34438547dd5e",
   "metadata": {},
   "outputs": [],
   "source": [
    "var nombre string = \"Luis\""
   ]
  },
  {
   "cell_type": "markdown",
   "id": "036b26db-8ade-4633-a9bb-7b7e886b308f",
   "metadata": {},
   "source": [
    "##### bool - Valor booleano (true, false)"
   ]
  },
  {
   "cell_type": "code",
   "execution_count": 41,
   "id": "89cc13fd-7786-49c4-8462-68e8e0fe6568",
   "metadata": {},
   "outputs": [],
   "source": [
    "var boolean bool = true"
   ]
  },
  {
   "cell_type": "markdown",
   "id": "316948d2-0451-4cf5-a15e-c3335e19f763",
   "metadata": {},
   "source": [
    "#### Existen dos métodos adicionales para declarar e inicializar variables.\n",
    "##### Inicializar sin especificar el tipo de dato."
   ]
  },
  {
   "cell_type": "code",
   "execution_count": null,
   "id": "1a42fd54-fe26-4f7e-a6c0-eefb45223f71",
   "metadata": {},
   "outputs": [],
   "source": [
    "var numero = 34"
   ]
  },
  {
   "cell_type": "markdown",
   "id": "4f32d27b-4ae8-4d1c-a8d6-f4193f7766e5",
   "metadata": {},
   "source": [
    "En este caso, no se ha especificado el tipo de dato. Por lo tanto, el compilador detectará y asignará automáticamente el tipo de dato correspondiente al valor de la variable. Dado que el número 34 es un entero, el tipo de dato de 'numero' será 'int'.\n",
    "##### Inicialización rápida."
   ]
  },
  {
   "cell_type": "code",
   "execution_count": null,
   "id": "e4dd4fc9-26ff-42f1-a28c-e34535cce92c",
   "metadata": {},
   "outputs": [],
   "source": [
    "numero := 43"
   ]
  },
  {
   "cell_type": "markdown",
   "id": "2fb01cec-194f-42d4-b309-87407c5b0777",
   "metadata": {},
   "source": [
    "En este caso, se utiliza el operador ':=' para asignar el valor 43 a la variable 'numero', sin la palabra reservada 'var' ni el tipo de dato."
   ]
  },
  {
   "cell_type": "markdown",
   "id": "35094f37-0e34-4c5f-b504-3951bbc4352f",
   "metadata": {},
   "source": [
    "#### Crear múltiples variables al mismo tiempo.\n",
    "##### En Go, es posible declarar múltiples variables, a través de la siguiente sintaxis:"
   ]
  },
  {
   "cell_type": "code",
   "execution_count": null,
   "id": "6b9df80b-0d88-49f3-979d-d4f1a9b851eb",
   "metadata": {},
   "outputs": [],
   "source": [
    "var nombre, edad = \"Juan\", 19"
   ]
  },
  {
   "cell_type": "markdown",
   "id": "734f6805-9960-450a-b2d1-b68ed7ba7cab",
   "metadata": {},
   "source": [
    "En este caso, 'Juan' se asigna a la variable 'nombre' y 19 a la variable 'edad'."
   ]
  },
  {
   "cell_type": "markdown",
   "id": "572a5656-45c5-4ff4-a952-09875b6f8546",
   "metadata": {},
   "source": [
    "### Constantes\n",
    "#### Las constantes son valores que no pueden alterarse en el flujo de un programa. Se declaran de la siguiente forma:"
   ]
  },
  {
   "cell_type": "code",
   "execution_count": 44,
   "id": "cf6331af-8ddd-47a8-8dc2-4d4d02c512d3",
   "metadata": {},
   "outputs": [],
   "source": [
    "const pi = 3.1416"
   ]
  },
  {
   "cell_type": "markdown",
   "id": "5ac05a7f-6c69-4ed0-96b3-ae274eaaaa01",
   "metadata": {},
   "source": [
    "## Operadores Matemáticos en Go\n",
    "#### + - Adición"
   ]
  },
  {
   "cell_type": "code",
   "execution_count": 86,
   "id": "4261b74a-8540-46ed-9655-bc33307003f0",
   "metadata": {},
   "outputs": [
    {
     "data": {
      "text/plain": [
       "6"
      ]
     },
     "execution_count": 86,
     "metadata": {},
     "output_type": "execute_result"
    }
   ],
   "source": [
    "2 + 4"
   ]
  },
  {
   "cell_type": "markdown",
   "id": "a36cb2bc-5c4b-4486-87a3-4ef1e2040571",
   "metadata": {},
   "source": [
    "#### - - Sustracción"
   ]
  },
  {
   "cell_type": "code",
   "execution_count": 82,
   "id": "58adb525-f44e-4b2c-9a29-40f7953ebc33",
   "metadata": {},
   "outputs": [
    {
     "data": {
      "text/plain": [
       "3"
      ]
     },
     "execution_count": 82,
     "metadata": {},
     "output_type": "execute_result"
    }
   ],
   "source": [
    "10 - 7"
   ]
  },
  {
   "cell_type": "markdown",
   "id": "50a2f823-a69b-46fa-89ea-f1a69817b7f5",
   "metadata": {},
   "source": [
    "#### * - Multiplicación"
   ]
  },
  {
   "cell_type": "code",
   "execution_count": 83,
   "id": "3b0119d0-258d-4539-a2e9-bc0ed3f6ac00",
   "metadata": {},
   "outputs": [
    {
     "data": {
      "text/plain": [
       "20"
      ]
     },
     "execution_count": 83,
     "metadata": {},
     "output_type": "execute_result"
    }
   ],
   "source": [
    "4 * 5"
   ]
  },
  {
   "cell_type": "markdown",
   "id": "36fd35da-c885-4711-ac48-20f63a972ecb",
   "metadata": {},
   "source": [
    "#### / - División"
   ]
  },
  {
   "cell_type": "code",
   "execution_count": 84,
   "id": "885ef73a-b7aa-44f2-87e9-a77c6ac48ab2",
   "metadata": {},
   "outputs": [
    {
     "data": {
      "text/plain": [
       "2"
      ]
     },
     "execution_count": 84,
     "metadata": {},
     "output_type": "execute_result"
    }
   ],
   "source": [
    "6 / 3"
   ]
  },
  {
   "cell_type": "markdown",
   "id": "2f64affa-40e5-4db5-adba-32887079733e",
   "metadata": {},
   "source": [
    "#### % - Módulo"
   ]
  },
  {
   "cell_type": "code",
   "execution_count": 85,
   "id": "12c5fac5-6f16-4830-a83b-ab82fdbd6b78",
   "metadata": {},
   "outputs": [
    {
     "data": {
      "text/plain": [
       "3"
      ]
     },
     "execution_count": 85,
     "metadata": {},
     "output_type": "execute_result"
    }
   ],
   "source": [
    "8 % 5"
   ]
  },
  {
   "cell_type": "markdown",
   "id": "1b34981c-f022-449b-831c-fab34732aded",
   "metadata": {},
   "source": [
    "## Estructuras Condicionales\n",
    "### Operadores Relacionales.\n",
    "#### Los operadores relacionales comparan dos valores, retornando un valor booleano (verdadero o falso)."
   ]
  },
  {
   "cell_type": "markdown",
   "id": "b374b6d7-fa25-4b21-919a-727de7f5207f",
   "metadata": {},
   "source": [
    "##### == (igual que)"
   ]
  },
  {
   "cell_type": "code",
   "execution_count": 51,
   "id": "1538c4bf-0b76-4a10-a4a7-74da7dc9deae",
   "metadata": {},
   "outputs": [
    {
     "name": "stdout",
     "output_type": "stream",
     "text": [
      "false"
     ]
    },
    {
     "data": {
      "text/plain": [
       "5 <nil>"
      ]
     },
     "execution_count": 51,
     "metadata": {},
     "output_type": "execute_result"
    }
   ],
   "source": [
    "var resultado = (2 == 4)\n",
    "fmt.Print(resultado)"
   ]
  },
  {
   "cell_type": "markdown",
   "id": "3fe9d26c-d54e-4772-8f9b-a3dc6b821586",
   "metadata": {},
   "source": [
    "##### != (diferente de)"
   ]
  },
  {
   "cell_type": "code",
   "execution_count": 52,
   "id": "7c2b0823-2aaa-4749-9ecb-e372e084b3bb",
   "metadata": {},
   "outputs": [
    {
     "name": "stdout",
     "output_type": "stream",
     "text": [
      "true"
     ]
    },
    {
     "data": {
      "text/plain": [
       "4 <nil>"
      ]
     },
     "execution_count": 52,
     "metadata": {},
     "output_type": "execute_result"
    }
   ],
   "source": [
    "resultado = (2 != 4)\n",
    "fmt.Print(resultado)"
   ]
  },
  {
   "cell_type": "markdown",
   "id": "8a4f9f77-0f6b-4ff4-919e-ac3cb01bddd0",
   "metadata": {},
   "source": [
    "##### > (mayor que)"
   ]
  },
  {
   "cell_type": "code",
   "execution_count": 53,
   "id": "bacb1940-290a-4a0a-9999-a3314b255f8e",
   "metadata": {},
   "outputs": [
    {
     "name": "stdout",
     "output_type": "stream",
     "text": [
      "false"
     ]
    },
    {
     "data": {
      "text/plain": [
       "5 <nil>"
      ]
     },
     "execution_count": 53,
     "metadata": {},
     "output_type": "execute_result"
    }
   ],
   "source": [
    "resultado = (2 > 4)\n",
    "fmt.Print(resultado)"
   ]
  },
  {
   "cell_type": "markdown",
   "id": "30b66933-5e99-4d27-b145-12e1f42f8a61",
   "metadata": {},
   "source": [
    "##### < (menor que)"
   ]
  },
  {
   "cell_type": "code",
   "execution_count": 54,
   "id": "2446c1cc-c2c1-4ab4-87fc-2469a93cdaba",
   "metadata": {},
   "outputs": [
    {
     "name": "stdout",
     "output_type": "stream",
     "text": [
      "true"
     ]
    },
    {
     "data": {
      "text/plain": [
       "4 <nil>"
      ]
     },
     "execution_count": 54,
     "metadata": {},
     "output_type": "execute_result"
    }
   ],
   "source": [
    "resultado = (2 < 4)\n",
    "fmt.Print(resultado)"
   ]
  },
  {
   "cell_type": "markdown",
   "id": "aef9076d-0856-42a7-b85b-811b6ac3fa46",
   "metadata": {},
   "source": [
    "##### >= (mayor o igual que)"
   ]
  },
  {
   "cell_type": "code",
   "execution_count": 55,
   "id": "a998af44-c33f-44f6-8a37-f586c82e43d7",
   "metadata": {},
   "outputs": [
    {
     "name": "stdout",
     "output_type": "stream",
     "text": [
      "false"
     ]
    },
    {
     "data": {
      "text/plain": [
       "5 <nil>"
      ]
     },
     "execution_count": 55,
     "metadata": {},
     "output_type": "execute_result"
    }
   ],
   "source": [
    "resultado = (2 >= 4)\n",
    "fmt.Print(resultado)"
   ]
  },
  {
   "cell_type": "markdown",
   "id": "509baeb7-81b9-4bf1-accc-9da1635420f6",
   "metadata": {},
   "source": [
    "##### <= (menor o igual que)"
   ]
  },
  {
   "cell_type": "code",
   "execution_count": 56,
   "id": "93e192b3-e84c-46a3-b4e1-4832094bd76b",
   "metadata": {},
   "outputs": [
    {
     "name": "stdout",
     "output_type": "stream",
     "text": [
      "true"
     ]
    },
    {
     "data": {
      "text/plain": [
       "4 <nil>"
      ]
     },
     "execution_count": 56,
     "metadata": {},
     "output_type": "execute_result"
    }
   ],
   "source": [
    "resultado = (2 <= 4)\n",
    "fmt.Print(resultado)"
   ]
  },
  {
   "cell_type": "markdown",
   "id": "55b0e3b0-9889-4c12-bb20-dbb5c4c9bad9",
   "metadata": {},
   "source": [
    "### Operadores Lógicos.\n",
    "#### Los operadores lógicos combinan operaciones relacionales, retornando un valor booleano (verdadero o falso) según las tablas de verdad.\n",
    "##### AND (&&)\n",
    "Retorna 'true' si ambas expresiones son 'true'."
   ]
  },
  {
   "cell_type": "code",
   "execution_count": 57,
   "id": "bd8d0591-8157-4398-beb1-0862b8b7ce63",
   "metadata": {},
   "outputs": [
    {
     "name": "stdout",
     "output_type": "stream",
     "text": [
      "false"
     ]
    },
    {
     "data": {
      "text/plain": [
       "5 <nil>"
      ]
     },
     "execution_count": 57,
     "metadata": {},
     "output_type": "execute_result"
    }
   ],
   "source": [
    "resultado = (2 == 4) && (1 != 0)\n",
    "fmt.Print(resultado)"
   ]
  },
  {
   "cell_type": "markdown",
   "id": "62aeffe7-ebda-4abc-ba0a-283f179e91ff",
   "metadata": {},
   "source": [
    "##### OR (||)\n",
    "Retorna 'true' si al menos una de las expresiones es 'true'."
   ]
  },
  {
   "cell_type": "code",
   "execution_count": 73,
   "id": "789aea9b-f316-4199-a9ee-4b95b4527ed2",
   "metadata": {},
   "outputs": [
    {
     "name": "stdout",
     "output_type": "stream",
     "text": [
      "true"
     ]
    },
    {
     "data": {
      "text/plain": [
       "4 <nil>"
      ]
     },
     "execution_count": 73,
     "metadata": {},
     "output_type": "execute_result"
    }
   ],
   "source": [
    "resultado = (2 == 4) || (1 != 0)\n",
    "fmt.Print(resultado)"
   ]
  },
  {
   "cell_type": "markdown",
   "id": "5668c1cb-b640-4554-8342-bd7470419bd7",
   "metadata": {},
   "source": [
    "##### NOT(!)\n",
    "Retorna 'true' si la expresión es 'false', y 'false' si la expresión es 'true'."
   ]
  },
  {
   "cell_type": "code",
   "execution_count": 59,
   "id": "5aa88b16-7e89-4b57-8f2d-4f08c8cca63c",
   "metadata": {},
   "outputs": [
    {
     "name": "stdout",
     "output_type": "stream",
     "text": [
      "true"
     ]
    },
    {
     "data": {
      "text/plain": [
       "4 <nil>"
      ]
     },
     "execution_count": 59,
     "metadata": {},
     "output_type": "execute_result"
    }
   ],
   "source": [
    "resultado = !(2 == 4)\n",
    "fmt.Print(resultado)"
   ]
  },
  {
   "cell_type": "markdown",
   "id": "4818dfc4-8a58-4fec-88c7-abfc4a7c4dff",
   "metadata": {},
   "source": [
    "### Sentencia IF\n",
    "#### Una sentencia 'if' evalúa una condición. Si la condición es 'true', el bloque de código del 'if' se ejecuta. Por el contrario, el bloque de instrucciones se omite."
   ]
  },
  {
   "cell_type": "code",
   "execution_count": 60,
   "id": "4c4469a2-f9d4-48a7-bd32-bf6aae5e664f",
   "metadata": {},
   "outputs": [
    {
     "name": "stdout",
     "output_type": "stream",
     "text": [
      "2 es diferente de 4"
     ]
    }
   ],
   "source": [
    "if (2 != 4) {\n",
    "    fmt.Print(\"2 es diferente de 4\")\n",
    "    }\n",
    "\n",
    "if (1 == 0) {\n",
    "    fmt.Print(\"1 es igual que 0\")\n",
    "    }"
   ]
  },
  {
   "cell_type": "markdown",
   "id": "0923de96-8222-4a80-8a14-442e9604793a",
   "metadata": {},
   "source": [
    "En este caso, se cumple la condición del primer 'if'; por ende, se ejecuta el bloque de instrucciones correspondiente."
   ]
  },
  {
   "cell_type": "markdown",
   "id": "e4db3f92-569c-4a0c-82ca-c2a54631ffba",
   "metadata": {},
   "source": [
    "### Sentencia IF...ELSE\n",
    "#### Una sentencia 'if...else' evalúa una condición. Si la condición es 'true', el bloque de código del 'if' se ejecuta. Por el contrario, el bloque de código del 'else' se ejecuta."
   ]
  },
  {
   "cell_type": "code",
   "execution_count": 61,
   "id": "29d5100d-5fb2-476c-ae10-7bcc708f246a",
   "metadata": {},
   "outputs": [
    {
     "name": "stdout",
     "output_type": "stream",
     "text": [
      "2 es diferente de 4"
     ]
    }
   ],
   "source": [
    "if (2 == 4) {\n",
    "    fmt.Print(\"2 es igual que 4\")\n",
    "    } else {\n",
    "    fmt.Print(\"2 es diferente de 4\")\n",
    "    }"
   ]
  },
  {
   "cell_type": "markdown",
   "id": "7ef5d5a2-cfba-4e70-8547-69a89ea71c55",
   "metadata": {},
   "source": [
    "En este caso, no se cumple la condición del 'if'. En consecuencia, se ejecuta el bloque de instrucciones del 'else'."
   ]
  },
  {
   "cell_type": "markdown",
   "id": "12867d76-5f4c-4098-affd-4f128e7d6694",
   "metadata": {},
   "source": [
    "### Sentencia IF...ELSE IF...ELSE\n",
    "#### Una sentencia 'if...else if...else' evalúa varias condiciones. Si se cumple una condición, se ejecutará el bloque de código correspondiente."
   ]
  },
  {
   "cell_type": "code",
   "execution_count": 88,
   "id": "3941ff0e-bd16-4581-9fd7-aa9ce084028c",
   "metadata": {},
   "outputs": [
    {
     "name": "stdout",
     "output_type": "stream",
     "text": [
      "Mayor de edad"
     ]
    }
   ],
   "source": [
    "var edad int = 40\n",
    "\n",
    "if (edad > 60) {\n",
    "    fmt.Print(\"Tercera edad\")\n",
    "    } else if (edad > 18) {\n",
    "    fmt.Print(\"Mayor de edad\")\n",
    "    } else {\n",
    "    fmt.Print(\"Menor de edad\")\n",
    "    }"
   ]
  },
  {
   "cell_type": "markdown",
   "id": "61ddedfd-ea14-477d-9e8c-27d7ef5b7018",
   "metadata": {},
   "source": [
    "En este caso, sólo se cumple la condición del 'else if', por lo que se ejecuta el bloque de instrucciones correspondiente.\n",
    "##### Es importante destacar que todos los bloques de código de una estructura condicional se escriben entre llaves {}.\n",
    "### Estructuras Condicionales Anidadas\n",
    "#### Las estructuras condicionales pueden anidarse; es decir, pueden existir estructuras condicionales dentro de otras estructuras. Por ejemplo:"
   ]
  },
  {
   "cell_type": "code",
   "execution_count": 67,
   "id": "9f199e5b-d4ee-4f07-93fe-5fdd31243a75",
   "metadata": {},
   "outputs": [
    {
     "name": "stdout",
     "output_type": "stream",
     "text": [
      "Mi mascota es un perro poodle"
     ]
    }
   ],
   "source": [
    "var animal, raza = \"Perro\", \"Poodle\"\n",
    "\n",
    "if (animal == \"Perro\") {\n",
    "    if (raza == \"Poodle\") {\n",
    "        fmt.Print(\"Mi mascota es un perro poodle\")\n",
    "        }\n",
    "    }"
   ]
  },
  {
   "cell_type": "markdown",
   "id": "47aefe5d-4d66-4d48-a126-65968161d936",
   "metadata": {},
   "source": [
    "En este caso, se evalúa primero la condición relacionada a la variable 'animal'. Si se cumple, se evalúa la condición de la 'raza'."
   ]
  },
  {
   "cell_type": "markdown",
   "id": "b965b128-2b52-486e-9158-3929b602780f",
   "metadata": {},
   "source": [
    "### Sentencia Switch\n",
    "#### La sentencia 'switch' permite ejecutar un bloque de código con diferentes alternativas, donde cada una es un 'case'."
   ]
  },
  {
   "cell_type": "code",
   "execution_count": 68,
   "id": "99a8e25b-134f-4b6f-8a3f-49f2cbe4f827",
   "metadata": {},
   "outputs": [
    {
     "name": "stdout",
     "output_type": "stream",
     "text": [
      "Hola, me llamo Juan"
     ]
    }
   ],
   "source": [
    "var nombre string = \"Juan\"\n",
    "\n",
    "switch nombre {\n",
    "    case \"Luis\":\n",
    "        fmt.Print(\"Hola, me llamo Luis\")\n",
    "    case \"Pedro\":\n",
    "        fmt.Print(\"Hola, me llamo Pedro\")\n",
    "    case \"Juan\":\n",
    "        fmt.Print(\"Hola, me llamo Juan\")\n",
    "    default: // El default es el equivalente al 'else'. Si no se cumple ninguna alternativa, se recurre al default.\n",
    "        fmt.Print(\"Hola, no sé como me llamo\")\n",
    "    }"
   ]
  },
  {
   "cell_type": "markdown",
   "id": "6688181a-e1d8-4930-a331-153f464183db",
   "metadata": {},
   "source": [
    "#### Incluso, los 'case' pueden tomar múltiples alternativas. Por ejemplo:"
   ]
  },
  {
   "cell_type": "code",
   "execution_count": 70,
   "id": "56c6a821-0260-4b98-8692-add303fd3472",
   "metadata": {},
   "outputs": [
    {
     "name": "stdout",
     "output_type": "stream",
     "text": [
      "Sobresaliente"
     ]
    }
   ],
   "source": [
    "var nota int = 18\n",
    "\n",
    "switch nota {\n",
    "    case 18, 19, 20:\n",
    "        fmt.Print(\"Sobresaliente\")\n",
    "    case 10, 11, 12, 13, 14, 15, 16, 17:\n",
    "        fmt.Print(\"Aprobado\")\n",
    "    default:\n",
    "        fmt.Print(\"Reprobado\")\n",
    "    }"
   ]
  },
  {
   "cell_type": "markdown",
   "id": "f159a1a6-bbb1-45a0-8e7e-4dfb6581dbc7",
   "metadata": {},
   "source": [
    "## Bucles\n",
    "### Ciclos For\n",
    "#### Los ciclos 'for' permiten iterar un bloque de código mientras se cumpla una condición específica. Su sintaxis es la siguiente:"
   ]
  },
  {
   "cell_type": "code",
   "execution_count": 71,
   "id": "5e32bca5-555a-4b29-b342-0923454b6c36",
   "metadata": {},
   "outputs": [
    {
     "name": "stdout",
     "output_type": "stream",
     "text": [
      "1\n",
      "2\n",
      "3\n",
      "4\n",
      "5\n",
      "6\n",
      "7\n",
      "8\n",
      "9\n",
      "10\n"
     ]
    }
   ],
   "source": [
    "for i := 1; i <= 10; i++ {\n",
    "    fmt.Println(i)\n",
    "    }"
   ]
  },
  {
   "cell_type": "markdown",
   "id": "95b9e83b-ea02-4cec-8ce5-f1ac914cee98",
   "metadata": {},
   "source": [
    "##### Los ciclos for requieren de tres elementos: inicialización, condición e incremento (separados por punto y coma, como se muestra en el ejemplo).\n",
    "En la inicialización se declara y asigna un valor a la variable controladora. Luego, se evalúa la condición. Si se cumple, se ejecuta el cuerpo del ciclo. El incremento permite modificar el valor de la variable controladora. Por ejemplo, 'i++' indica que con cada iteración la variable 'i' aumenta en 1.\n",
    "#### Existen otros tipos de ciclos 'for', por ejemplo:"
   ]
  },
  {
   "cell_type": "code",
   "execution_count": 74,
   "id": "2e7bcf13-dda7-48fc-b6f7-74c566ddcfc3",
   "metadata": {},
   "outputs": [
    {
     "name": "stdout",
     "output_type": "stream",
     "text": [
      "1\n",
      "2\n",
      "3\n",
      "4\n",
      "5\n"
     ]
    }
   ],
   "source": [
    "var valor = 1\n",
    "\n",
    "for valor <= 5 {\n",
    "    fmt.Println(valor)\n",
    "    valor++\n",
    "    }"
   ]
  },
  {
   "cell_type": "markdown",
   "id": "c980be08-9946-4782-bbf2-66497136b887",
   "metadata": {},
   "source": [
    "En este caso, el ciclo 'for' evalúa una condición asociada a la variable 'valor', cuyo valor se incrementa en el cuerpo del ciclo.\n",
    "##### Un caso menos común, es el ciclo indefinido, que ocurre cuando no se especifica una condición. Es decir: for {...}"
   ]
  }
 ],
 "metadata": {
  "kernelspec": {
   "display_name": "Go",
   "language": "go",
   "name": "kernel"
  },
  "language_info": {
   "codemirror_mode": "",
   "file_extension": ".go",
   "mimetype": "",
   "name": "go",
   "nbconvert_exporter": "",
   "pygments_lexer": "",
   "version": "go1.23.5"
  }
 },
 "nbformat": 4,
 "nbformat_minor": 5
}
